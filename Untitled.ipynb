{
 "cells": [
  {
   "cell_type": "code",
   "execution_count": 30,
   "id": "a2962fa4",
   "metadata": {},
   "outputs": [],
   "source": [
    "import pandas as pd\n",
    "import matplotlib as mplot\n",
    "from matplotlib  import pyplot as plt"
   ]
  },
  {
   "cell_type": "code",
   "execution_count": 3,
   "id": "a088aadf",
   "metadata": {},
   "outputs": [],
   "source": [
    "import sys"
   ]
  },
  {
   "cell_type": "code",
   "execution_count": 18,
   "id": "686c30a1",
   "metadata": {},
   "outputs": [],
   "source": [
    "data = pd.read_csv('/home/linux/dataset/NetflixBestOf_reddit.csv')"
   ]
  },
  {
   "cell_type": "code",
   "execution_count": 35,
   "id": "e475b2a6",
   "metadata": {},
   "outputs": [
    {
     "name": "stdout",
     "output_type": "stream",
     "text": [
      "<class 'pandas.core.frame.DataFrame'>\n",
      "RangeIndex: 462 entries, 0 to 461\n",
      "Data columns (total 9 columns):\n",
      " #   Column        Non-Null Count  Dtype  \n",
      "---  ------        --------------  -----  \n",
      " 0   title         462 non-null    object \n",
      " 1   score         462 non-null    int64  \n",
      " 2   id            462 non-null    object \n",
      " 3   subreddit     462 non-null    object \n",
      " 4   url           462 non-null    object \n",
      " 5   num_comments  462 non-null    int64  \n",
      " 6   body          354 non-null    object \n",
      " 7   created       462 non-null    float64\n",
      " 8   timestamp     462 non-null    object \n",
      "dtypes: float64(1), int64(2), object(6)\n",
      "memory usage: 32.6+ KB\n"
     ]
    }
   ],
   "source": [
    "data.head(5)\n",
    "data.info()"
   ]
  },
  {
   "cell_type": "code",
   "execution_count": 19,
   "id": "093e25a9",
   "metadata": {},
   "outputs": [
    {
     "data": {
      "text/html": [
       "<div>\n",
       "<style scoped>\n",
       "    .dataframe tbody tr th:only-of-type {\n",
       "        vertical-align: middle;\n",
       "    }\n",
       "\n",
       "    .dataframe tbody tr th {\n",
       "        vertical-align: top;\n",
       "    }\n",
       "\n",
       "    .dataframe thead th {\n",
       "        text-align: right;\n",
       "    }\n",
       "</style>\n",
       "<table border=\"1\" class=\"dataframe\">\n",
       "  <thead>\n",
       "    <tr style=\"text-align: right;\">\n",
       "      <th></th>\n",
       "      <th>title</th>\n",
       "      <th>score</th>\n",
       "      <th>id</th>\n",
       "      <th>subreddit</th>\n",
       "      <th>url</th>\n",
       "      <th>num_comments</th>\n",
       "      <th>body</th>\n",
       "      <th>created</th>\n",
       "      <th>timestamp</th>\n",
       "    </tr>\n",
       "  </thead>\n",
       "  <tbody>\n",
       "    <tr>\n",
       "      <th>0</th>\n",
       "      <td>[Discussion] Am I just late to some change, or...</td>\n",
       "      <td>830</td>\n",
       "      <td>qtq00z</td>\n",
       "      <td>NetflixBestOf</td>\n",
       "      <td>https://www.reddit.com/r/NetflixBestOf/comment...</td>\n",
       "      <td>77</td>\n",
       "      <td>A lot of these are older, but I'm seeing more ...</td>\n",
       "      <td>1.636897e+09</td>\n",
       "      <td>2021-11-14 14:38:17</td>\n",
       "    </tr>\n",
       "    <tr>\n",
       "      <th>1</th>\n",
       "      <td>[REQUEST] Shows similar to Only Murders in the...</td>\n",
       "      <td>36</td>\n",
       "      <td>qu96s0</td>\n",
       "      <td>NetflixBestOf</td>\n",
       "      <td>https://www.reddit.com/r/NetflixBestOf/comment...</td>\n",
       "      <td>7</td>\n",
       "      <td>Loved this one. Looking for similar shows that...</td>\n",
       "      <td>1.636955e+09</td>\n",
       "      <td>2021-11-15 06:37:27</td>\n",
       "    </tr>\n",
       "    <tr>\n",
       "      <th>2</th>\n",
       "      <td>[DISCUSSION] (US) The Fury of a Patient Man (T...</td>\n",
       "      <td>12</td>\n",
       "      <td>qu3xtc</td>\n",
       "      <td>NetflixBestOf</td>\n",
       "      <td>https://www.reddit.com/r/NetflixBestOf/comment...</td>\n",
       "      <td>2</td>\n",
       "      <td>Reminiscent of A History of Violence, it is a ...</td>\n",
       "      <td>1.636937e+09</td>\n",
       "      <td>2021-11-15 01:46:35</td>\n",
       "    </tr>\n",
       "    <tr>\n",
       "      <th>3</th>\n",
       "      <td>[US] Love Harder (2021): this year's Netflix C...</td>\n",
       "      <td>514</td>\n",
       "      <td>qtc3c4</td>\n",
       "      <td>NetflixBestOf</td>\n",
       "      <td>https://www.netflix.com/us/title/81086631?s=a&amp;...</td>\n",
       "      <td>86</td>\n",
       "      <td>NaN</td>\n",
       "      <td>1.636844e+09</td>\n",
       "      <td>2021-11-13 23:48:44</td>\n",
       "    </tr>\n",
       "    <tr>\n",
       "      <th>4</th>\n",
       "      <td>[DISCUSSION] Arcane (2021)</td>\n",
       "      <td>110</td>\n",
       "      <td>qtipzk</td>\n",
       "      <td>NetflixBestOf</td>\n",
       "      <td>https://www.reddit.com/r/NetflixBestOf/comment...</td>\n",
       "      <td>40</td>\n",
       "      <td>Holy. Shit. This one came out of no where for ...</td>\n",
       "      <td>1.636867e+09</td>\n",
       "      <td>2021-11-14 06:14:27</td>\n",
       "    </tr>\n",
       "    <tr>\n",
       "      <th>5</th>\n",
       "      <td>Top 10 Best NETFLIX Series to Watch Now! 2021-...</td>\n",
       "      <td>0</td>\n",
       "      <td>quei6n</td>\n",
       "      <td>NetflixBestOf</td>\n",
       "      <td>https://www.youtube.com/watch?v=g_t4WPhFZKQ</td>\n",
       "      <td>1</td>\n",
       "      <td>NaN</td>\n",
       "      <td>1.636976e+09</td>\n",
       "      <td>2021-11-15 12:38:13</td>\n",
       "    </tr>\n",
       "    <tr>\n",
       "      <th>6</th>\n",
       "      <td>[ARG] The Haunting of Hill House (2018): A fam...</td>\n",
       "      <td>471</td>\n",
       "      <td>qt2977</td>\n",
       "      <td>NetflixBestOf</td>\n",
       "      <td>https://www.reddit.com/r/NetflixBestOf/comment...</td>\n",
       "      <td>65</td>\n",
       "      <td>\\n\\nhttps://preview.redd.it/c5mdsenmgdz71.jpg...</td>\n",
       "      <td>1.636813e+09</td>\n",
       "      <td>2021-11-13 15:22:14</td>\n",
       "    </tr>\n",
       "    <tr>\n",
       "      <th>7</th>\n",
       "      <td>[REQUEST] [UK] University survey about NETFLIX...</td>\n",
       "      <td>1</td>\n",
       "      <td>qts1jq</td>\n",
       "      <td>NetflixBestOf</td>\n",
       "      <td>https://www.reddit.com/r/NetflixBestOf/comment...</td>\n",
       "      <td>0</td>\n",
       "      <td>(Delete if not allowed)\\nHi everyone! I am a G...</td>\n",
       "      <td>1.636903e+09</td>\n",
       "      <td>2021-11-14 16:24:11</td>\n",
       "    </tr>\n",
       "    <tr>\n",
       "      <th>8</th>\n",
       "      <td>[REQUEST] Best shows for the extremely picky? ...</td>\n",
       "      <td>100</td>\n",
       "      <td>qsy42q</td>\n",
       "      <td>NetflixBestOf</td>\n",
       "      <td>https://www.reddit.com/r/NetflixBestOf/comment...</td>\n",
       "      <td>137</td>\n",
       "      <td>Some of shows I've been interested in lately h...</td>\n",
       "      <td>1.636797e+09</td>\n",
       "      <td>2021-11-13 10:57:03</td>\n",
       "    </tr>\n",
       "    <tr>\n",
       "      <th>9</th>\n",
       "      <td>[REQUEST] The Chestnut Man</td>\n",
       "      <td>37</td>\n",
       "      <td>qt14co</td>\n",
       "      <td>NetflixBestOf</td>\n",
       "      <td>https://www.reddit.com/r/NetflixBestOf/comment...</td>\n",
       "      <td>44</td>\n",
       "      <td>I just watched this show recently. Maybe first...</td>\n",
       "      <td>1.636810e+09</td>\n",
       "      <td>2021-11-13 14:19:46</td>\n",
       "    </tr>\n",
       "  </tbody>\n",
       "</table>\n",
       "</div>"
      ],
      "text/plain": [
       "                                               title  score      id  \\\n",
       "0  [Discussion] Am I just late to some change, or...    830  qtq00z   \n",
       "1  [REQUEST] Shows similar to Only Murders in the...     36  qu96s0   \n",
       "2  [DISCUSSION] (US) The Fury of a Patient Man (T...     12  qu3xtc   \n",
       "3  [US] Love Harder (2021): this year's Netflix C...    514  qtc3c4   \n",
       "4                         [DISCUSSION] Arcane (2021)    110  qtipzk   \n",
       "5  Top 10 Best NETFLIX Series to Watch Now! 2021-...      0  quei6n   \n",
       "6  [ARG] The Haunting of Hill House (2018): A fam...    471  qt2977   \n",
       "7  [REQUEST] [UK] University survey about NETFLIX...      1  qts1jq   \n",
       "8  [REQUEST] Best shows for the extremely picky? ...    100  qsy42q   \n",
       "9                         [REQUEST] The Chestnut Man     37  qt14co   \n",
       "\n",
       "       subreddit                                                url  \\\n",
       "0  NetflixBestOf  https://www.reddit.com/r/NetflixBestOf/comment...   \n",
       "1  NetflixBestOf  https://www.reddit.com/r/NetflixBestOf/comment...   \n",
       "2  NetflixBestOf  https://www.reddit.com/r/NetflixBestOf/comment...   \n",
       "3  NetflixBestOf  https://www.netflix.com/us/title/81086631?s=a&...   \n",
       "4  NetflixBestOf  https://www.reddit.com/r/NetflixBestOf/comment...   \n",
       "5  NetflixBestOf        https://www.youtube.com/watch?v=g_t4WPhFZKQ   \n",
       "6  NetflixBestOf  https://www.reddit.com/r/NetflixBestOf/comment...   \n",
       "7  NetflixBestOf  https://www.reddit.com/r/NetflixBestOf/comment...   \n",
       "8  NetflixBestOf  https://www.reddit.com/r/NetflixBestOf/comment...   \n",
       "9  NetflixBestOf  https://www.reddit.com/r/NetflixBestOf/comment...   \n",
       "\n",
       "   num_comments                                               body  \\\n",
       "0            77  A lot of these are older, but I'm seeing more ...   \n",
       "1             7  Loved this one. Looking for similar shows that...   \n",
       "2             2  Reminiscent of A History of Violence, it is a ...   \n",
       "3            86                                                NaN   \n",
       "4            40  Holy. Shit. This one came out of no where for ...   \n",
       "5             1                                                NaN   \n",
       "6            65   \\n\\nhttps://preview.redd.it/c5mdsenmgdz71.jpg...   \n",
       "7             0  (Delete if not allowed)\\nHi everyone! I am a G...   \n",
       "8           137  Some of shows I've been interested in lately h...   \n",
       "9            44  I just watched this show recently. Maybe first...   \n",
       "\n",
       "        created            timestamp  \n",
       "0  1.636897e+09  2021-11-14 14:38:17  \n",
       "1  1.636955e+09  2021-11-15 06:37:27  \n",
       "2  1.636937e+09  2021-11-15 01:46:35  \n",
       "3  1.636844e+09  2021-11-13 23:48:44  \n",
       "4  1.636867e+09  2021-11-14 06:14:27  \n",
       "5  1.636976e+09  2021-11-15 12:38:13  \n",
       "6  1.636813e+09  2021-11-13 15:22:14  \n",
       "7  1.636903e+09  2021-11-14 16:24:11  \n",
       "8  1.636797e+09  2021-11-13 10:57:03  \n",
       "9  1.636810e+09  2021-11-13 14:19:46  "
      ]
     },
     "execution_count": 19,
     "metadata": {},
     "output_type": "execute_result"
    }
   ],
   "source": [
    "data.head(10) #small peek"
   ]
  },
  {
   "cell_type": "code",
   "execution_count": 20,
   "id": "7b1460f8",
   "metadata": {},
   "outputs": [
    {
     "data": {
      "text/plain": [
       "Index(['title', 'score', 'id', 'subreddit', 'url', 'num_comments', 'body',\n",
       "       'created', 'timestamp'],\n",
       "      dtype='object')"
      ]
     },
     "execution_count": 20,
     "metadata": {},
     "output_type": "execute_result"
    }
   ],
   "source": [
    "data.columns #tiles"
   ]
  },
  {
   "cell_type": "code",
   "execution_count": 21,
   "id": "39838de7",
   "metadata": {},
   "outputs": [
    {
     "data": {
      "text/plain": [
       "(462, 9)"
      ]
     },
     "execution_count": 21,
     "metadata": {},
     "output_type": "execute_result"
    }
   ],
   "source": [
    "data.shape #param"
   ]
  },
  {
   "cell_type": "code",
   "execution_count": 23,
   "id": "b7c825a8",
   "metadata": {},
   "outputs": [
    {
     "data": {
      "text/plain": [
       "19"
      ]
     },
     "execution_count": 23,
     "metadata": {},
     "output_type": "execute_result"
    }
   ],
   "source": [
    "data.at[222, 'score'] #strip data "
   ]
  },
  {
   "cell_type": "code",
   "execution_count": 25,
   "id": "8534eb9d",
   "metadata": {},
   "outputs": [
    {
     "data": {
      "text/plain": [
       "title           [Discussion] Warrior (2011) is a superb sports...\n",
       "score                                                          19\n",
       "id                                                         q9uyfz\n",
       "subreddit                                           NetflixBestOf\n",
       "url             https://www.reddit.com/r/NetflixBestOf/comment...\n",
       "num_comments                                                    6\n",
       "body            I was blown away by the writing, specifically ...\n",
       "created                                              1634460504.0\n",
       "timestamp                                     2021-10-17 10:48:24\n",
       "Name: 222, dtype: object"
      ]
     },
     "execution_count": 25,
     "metadata": {},
     "output_type": "execute_result"
    }
   ],
   "source": [
    "data.loc[222] #loacate data "
   ]
  },
  {
   "cell_type": "code",
   "execution_count": 31,
   "id": "e7fa9976",
   "metadata": {},
   "outputs": [
    {
     "data": {
      "text/plain": [
       "[<matplotlib.lines.Line2D at 0x7fac73cbda60>]"
      ]
     },
     "execution_count": 31,
     "metadata": {},
     "output_type": "execute_result"
    },
    {
     "data": {
      "image/png": "[encoded data removed]",
      "text/plain": [
       "<Figure size 432x288 with 1 Axes>"
      ]
     },
     "metadata": {
      "needs_background": "light"
     },
     "output_type": "display_data"
    }
   ],
   "source": [
    "x = [1,2,3,4,5]\n",
    "y = [1,2,3,4,5]\n",
    "plt.plot(x,y)\n"
   ]
  },
  {
   "cell_type": "code",
   "execution_count": 37,
   "id": "14b80642",
   "metadata": {},
   "outputs": [
    {
     "data": {
      "text/plain": [
       "pandas.core.frame.DataFrame"
      ]
     },
     "execution_count": 37,
     "metadata": {},
     "output_type": "execute_result"
    }
   ],
   "source": [
    "type(data)"
   ]
  },
  {
   "cell_type": "code",
   "execution_count": 38,
   "id": "449235c2",
   "metadata": {},
   "outputs": [
    {
     "data": {
      "text/plain": [
       "0      830\n",
       "1       36\n",
       "2       12\n",
       "3      514\n",
       "4      110\n",
       "      ... \n",
       "457     14\n",
       "458    249\n",
       "459    309\n",
       "460     16\n",
       "461     13\n",
       "Name: score, Length: 462, dtype: int64"
      ]
     },
     "execution_count": 38,
     "metadata": {},
     "output_type": "execute_result"
    }
   ],
   "source": [
    "data.score"
   ]
  },
  {
   "cell_type": "code",
   "execution_count": 39,
   "id": "8d4c84b8",
   "metadata": {},
   "outputs": [
    {
     "data": {
      "text/plain": [
       "[<matplotlib.lines.Line2D at 0x7fac739404c0>]"
      ]
     },
     "execution_count": 39,
     "metadata": {},
     "output_type": "execute_result"
    },
    {
     "data": {
      "image/png": "[encoded data removed]",
      "text/plain": [
       "<Figure size 432x288 with 1 Axes>"
      ]
     },
     "metadata": {
      "needs_background": "light"
     },
     "output_type": "display_data"
    }
   ],
   "source": [
    "#plot data \n",
    "plt.plot(data.score)"
   ]
  },
  {
   "cell_type": "code",
   "execution_count": null,
   "id": "54a8e426",
   "metadata": {},
   "outputs": [],
   "source": []
  }
 ],
 "metadata": {
  "kernelspec": {
   "display_name": "Python 3 (ipykernel)",
   "language": "python",
   "name": "python3"
  },
  "language_info": {
   "codemirror_mode": {
    "name": "ipython",
    "version": 3
   },
   "file_extension": ".py",
   "mimetype": "text/x-python",
   "name": "python",
   "nbconvert_exporter": "python",
   "pygments_lexer": "ipython3",
   "version": "3.9.7"
  }
 },
 "nbformat": 4,
 "nbformat_minor": 5
}
